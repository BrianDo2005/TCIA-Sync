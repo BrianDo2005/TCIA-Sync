{
 "cells": [
  {
   "cell_type": "markdown",
   "metadata": {},
   "source": [
    "# imports"
   ]
  },
  {
   "cell_type": "code",
   "execution_count": 1,
   "metadata": {
    "collapsed": false
   },
   "outputs": [],
   "source": [
    "from TCIAclient import TCIAClient\n",
    "import urllib2, urllib,sys, json, dicom, csv, os, difflib\n",
    "\n",
    "####################################  Function to print server response #######\n",
    "def printServerResponse(response):\n",
    "    if response.getcode() == 200:\n",
    "        print \"Server Returned:\\n\"\n",
    "        print response.read()\n",
    "        print \"\\n\"\n",
    "    else:\n",
    "        print \"Error: \" + str(response.getcode())\n",
    "\n",
    "####################################  Create Clients for Two Different Resources  ####\n",
    "tcia_client = TCIAClient(apiKey = \"5a930950-10b8-4e09-8d78-dc4de7fe42e4\",baseUrl=\"https://services.cancerimagingarchive.net/services/v3\",resource = \"TCIA\")\n",
    "tcia_client2 = TCIAClient(apiKey =\"5a930950-10b8-4e09-8d78-dc4de7fe42e4\",baseUrl=\"https://services.cancerimagingarchive.net/services/v3\",resource=\"SharedList\")\n"
   ]
  },
  {
   "cell_type": "markdown",
   "metadata": {},
   "source": [
    "# Get UIDs for an entire collection"
   ]
  },
  {
   "cell_type": "code",
   "execution_count": null,
   "metadata": {
    "collapsed": true
   },
   "outputs": [],
   "source": [
    "# get_series by collection retrieving only series UIDs\n",
    "\n",
    "try:\n",
    "    response = tcia_client.get_series(collection = \"QIN PET Phantom\", outputFormat = \"json\")\n",
    "    json_obj = json.load(response)\n",
    "    \n",
    "    with open('TCIA-UIDs.csv','wb') as csvfile:\n",
    "        csvwriter = csv.writer(csvfile)\n",
    "        for i in json_obj:\n",
    "            csvwriter.writerow([i['SeriesInstanceUID']])\n",
    "        \n",
    "    print(\"A file named 'TCIA-UIDs.csv' has been created.\")\n",
    "\n",
    "except urllib2.HTTPError, err:\n",
    "    print \"Errror executing program:\\nError Code: \", str(err.code), \"\\nMessage:\", err.read()"
   ]
  },
  {
   "cell_type": "markdown",
   "metadata": {},
   "source": [
    "# Get UIDs for a specific patient"
   ]
  },
  {
   "cell_type": "code",
   "execution_count": 3,
   "metadata": {
    "collapsed": false
   },
   "outputs": [
    {
     "name": "stdout",
     "output_type": "stream",
     "text": [
      "A file named 'TCIA-UIDs.csv' has been created.\n"
     ]
    }
   ],
   "source": [
    "# Test get_series by patient ID\n",
    "\n",
    "try:\n",
    "    response = tcia_client.get_series(patientID = \"TCGA-AO-A03V\" , outputFormat = \"json\")\n",
    "    json_obj = json.load(response)\n",
    "   \n",
    "    with open('TCIA-UIDs.csv','wb') as csvfile:\n",
    "        csvwriter = csv.writer(csvfile)\n",
    "        for i in json_obj:\n",
    "            csvwriter.writerow([i['SeriesInstanceUID']])\n",
    "        \n",
    "    print(\"A file named 'TCIA-UIDs.csv' has been created.\")\n",
    "    \n",
    "except urllib2.HTTPError, err:\n",
    "    print \"Errror executing program:\\nError Code: \", str(err.code), \"\\nMessage:\", err.read()\n"
   ]
  },
  {
   "cell_type": "markdown",
   "metadata": {},
   "source": [
    "# Get UIDs for a Shared List"
   ]
  },
  {
   "cell_type": "code",
   "execution_count": 9,
   "metadata": {
    "collapsed": false
   },
   "outputs": [
    {
     "name": "stdout",
     "output_type": "stream",
     "text": [
      "https://services.cancerimagingarchive.net/services/v3/SharedList/query/ContentsByName\n",
      "A file named 'TCIA-UIDs.csv' has been created.\n"
     ]
    }
   ],
   "source": [
    "# Test shared list content_by_name\n",
    "try:\n",
    "    response = tcia_client2.contents_by_name(name = \"sharedListApiUnitTest\")\n",
    "    json_obj = json.load(response)\n",
    "    \n",
    "    with open('TCIA-UIDs.csv','wb') as csvfile:\n",
    "        csvwriter = csv.writer(csvfile)\n",
    "        for i in json_obj:\n",
    "            csvwriter.writerow([i['SERIES_INSTANCE_UID']])\n",
    "        \n",
    "    print(\"A file named 'TCIA-UIDs.csv' has been created.\")\n",
    "            \n",
    "except urllib2.HTTPError, err:\n",
    "    print \"Errror executing program:\\nError Code: \", str(err.code), \"\\nMessage:\", err.read()"
   ]
  },
  {
   "cell_type": "markdown",
   "metadata": {},
   "source": [
    "# Scan local contents and compare CSVs"
   ]
  },
  {
   "cell_type": "code",
   "execution_count": 5,
   "metadata": {
    "collapsed": false
   },
   "outputs": [
    {
     "name": "stdout",
     "output_type": "stream",
     "text": [
      "Reading .dcm files...\n",
      "['1.3.6.1.4.1.14519.5.2.1.6279.6001.132817748896065918417924920957', '1.3.6.1.4.1.14519.5.2.1.6279.6001.188744668142367349818410044874', '1.3.6.1.4.1.14519.5.2.1.9203.4002.339154654628408614521577372104']\n",
      "Opening TCIA-UIDs.csv...\n",
      "You are missing some files. A file named 'MissingUIDs.csv' has been created.\n",
      "You have extra files. A file named 'ExtraUIDs.csv' has been created.\n"
     ]
    }
   ],
   "source": [
    "\n",
    "uid = []\n",
    "csvlist = []\n",
    "\n",
    "print('Reading .dcm files...')\n",
    "for (path, dirs, files) in os.walk(os.getcwd(), topdown=True, onerror=False):\n",
    "    for name in files:#Read the current directory\n",
    "        if name.endswith('.dcm'): #Check for .dcm files\n",
    "            dcmfile = dicom.read_file(path + \"\\\\\" + name)#if found, then read data\n",
    "            uid.append(dcmfile.SeriesInstanceUID)\n",
    "            break\n",
    "uid = list(set(uid))#Remove duplicates from list\n",
    "uid.sort()\n",
    "\n",
    "# print(uid)   to check whether it's properly reading the UIDs\n",
    "\n",
    "for name in os.listdir(os.getcwd()):#Look for series instance UID .csv file\n",
    "    if name.endswith('.csv') and 'MissingCSVs' not in name:\n",
    "        csvname = name\n",
    "print('Opening ' + csvname + '...')\n",
    "with open(csvname) as csvfile:#Read csv file\n",
    "    csvreader = csv.reader(csvfile)\n",
    "    for i in csvreader:\n",
    "        for x in i:\n",
    "            csvlist.append(x)\n",
    "    csvlist.sort()\n",
    "\n",
    "while '' in csvlist:\n",
    "    csvlist.remove('')#Remove whitespaces\n",
    "\n",
    "if uid == csvlist:#Check the difference between the csv and extracted data\n",
    "    print('All files are present.')\n",
    "else:\n",
    "    d = difflib.Differ()#If there is a difference, compare the local csv to the extracted data\n",
    "    diff = d.compare(uid, csvlist)\n",
    "    difference = '\\n'.join(diff).splitlines()\n",
    "    missing = [m for m in difference if '+' in m]\n",
    "    extra = [e for e in difference if '-' in e]\n",
    "    \n",
    "    missing[:] = [m[2:] for m in missing]\n",
    "    extra[:] = [e[2:] for e in extra]\n",
    "           \n",
    "    with open('MissingUIDs.csv','wb') as csvfile:\n",
    "        csvwriter = csv.writer(csvfile)\n",
    "        for i in range(len(missing)):\n",
    "            csvwriter.writerow([missing[i]])\n",
    "    print(\"You are missing some files. A file named 'MissingUIDs.csv' has been created.\")\n",
    "    \n",
    "    with open('ExtraUIDs.csv','wb') as csvfile:\n",
    "        csvwriter = csv.writer(csvfile)\n",
    "        for i in range(len(extra)):\n",
    "            csvwriter.writerow([extra[i]])\n",
    "    print(\"You have extra files. A file named 'ExtraUIDs.csv' has been created.\")"
   ]
  },
  {
   "cell_type": "markdown",
   "metadata": {},
   "source": [
    "# Create subject list (work in progress)"
   ]
  },
  {
   "cell_type": "code",
   "execution_count": 2,
   "metadata": {
    "collapsed": false,
    "scrolled": true
   },
   "outputs": [
    {
     "name": "stdout",
     "output_type": "stream",
     "text": [
      "Server Returned:\n",
      "\n",
      "[{\"SeriesInstanceUID\":\"1.3.6.1.4.1.14519.5.2.1.9203.4002.103756953109141940909599337874\",\"StudyInstanceUID\":\"1.3.6.1.4.1.14519.5.2.1.9203.4002.259172237572097188128951116391\",\"Modality\":\"MR\",\"ProtocolName\":\"BILATERAL BREAST/6\",\"SeriesDate\":\"2002-08-10\",\"SeriesDescription\":\"T1 Sagittal pre fat sat\",\"BodyPartExamined\":\"BREAST\",\"SeriesNumber\":\"103.000000\",\"Collection\":\"TCGA-BRCA\",\"Manufacturer\":\"GE MEDICAL SYSTEMS\",\"ManufacturerModelName\":\"SIGNA HDx\",\"SoftwareVersions\":\"14\",\"Visibility\":\"1\",\"ImageCount\":40}]\n",
      "\n",
      "\n"
     ]
    }
   ],
   "source": [
    "# open missingUIDs.csv\n",
    "\n",
    "# query API for corresponding subject ID\n",
    "\n",
    "try:\n",
    "    response = tcia_client.get_series(seriesInstanceUid = \"1.3.6.1.4.1.14519.5.2.1.9203.4002.103756953109141940909599337874\", outputFormat = \"json\")\n",
    "    printServerResponse(response);\n",
    "    \n",
    "except urllib2.HTTPError, err:\n",
    "    print \"Errror executing program:\\nError Code: \", str(err.code), \"\\nMessage:\", err.read()\n",
    "\n",
    "# print subject IDs\n",
    "\n",
    "\n",
    "    "
   ]
  },
  {
   "cell_type": "markdown",
   "metadata": {},
   "source": [
    "# Download missing UIDs (work in progress)"
   ]
  },
  {
   "cell_type": "code",
   "execution_count": 2,
   "metadata": {
    "collapsed": false,
    "scrolled": true
   },
   "outputs": [
    {
     "name": "stdout",
     "output_type": "stream",
     "text": [
      "Server Returned:\n",
      "\n",
      "[{\"SeriesInstanceUID\":\"1.3.6.1.4.1.14519.5.2.1.9203.4002.103756953109141940909599337874\",\"StudyInstanceUID\":\"1.3.6.1.4.1.14519.5.2.1.9203.4002.259172237572097188128951116391\",\"Modality\":\"MR\",\"ProtocolName\":\"BILATERAL BREAST/6\",\"SeriesDate\":\"2002-08-10\",\"SeriesDescription\":\"T1 Sagittal pre fat sat\",\"BodyPartExamined\":\"BREAST\",\"SeriesNumber\":\"103.000000\",\"Collection\":\"TCGA-BRCA\",\"Manufacturer\":\"GE MEDICAL SYSTEMS\",\"ManufacturerModelName\":\"SIGNA HDx\",\"SoftwareVersions\":\"14\",\"Visibility\":\"1\",\"ImageCount\":40}]\n",
      "\n",
      "\n"
     ]
    }
   ],
   "source": [
    "# get info to save images into directory hierarchy: Collection > Patient ID > Study Date > Series Description + last 5 UID\n",
    "\n",
    "try:\n",
    "    response = tcia_client.get_series(seriesInstanceUid = \"1.3.6.1.4.1.14519.5.2.1.9203.4002.103756953109141940909599337874\", outputFormat = \"json\")\n",
    "    printServerResponse(response);\n",
    "    \n",
    "except urllib2.HTTPError, err:\n",
    "    print \"Errror executing program:\\nError Code: \", str(err.code), \"\\nMessage:\", err.read()\n",
    "\n",
    "    "
   ]
  },
  {
   "cell_type": "code",
   "execution_count": 21,
   "metadata": {
    "collapsed": false
   },
   "outputs": [
    {
     "ename": "SyntaxError",
     "evalue": "EOL while scanning string literal (<ipython-input-21-2e0ee1c39feb>, line 3)",
     "output_type": "error",
     "traceback": [
      "\u001b[1;36m  File \u001b[1;32m\"<ipython-input-21-2e0ee1c39feb>\"\u001b[1;36m, line \u001b[1;32m3\u001b[0m\n\u001b[1;33m    SeriesUID = \"1.3.6.1.4.1.14519.5.2.1.9203.4002.103756953109141940909599337874\u001b[0m\n\u001b[1;37m                                                                                ^\u001b[0m\n\u001b[1;31mSyntaxError\u001b[0m\u001b[1;31m:\u001b[0m EOL while scanning string literal\n"
     ]
    }
   ],
   "source": [
    "\n",
    "\n",
    "try:\n",
    "    reponse = tcia_client.get_image(seriesInstanceUid =\"1.3.6.1.4.1.14519.5.2.1.7695.4001.306204232344341694648035234440\");\n",
    "\n",
    "    if response.getcode() == 200:\n",
    "        print \"\\n\" + str(response.info())\n",
    "        bytesRead = response.read()\n",
    "        fout = open(\"images.zip\",\"wb\")\n",
    "        fout.write(bytesRead)\n",
    "        fout.close()\n",
    "        print \"\\nDownloaded file images.zip from the server\"\n",
    "    else:\n",
    "        print \"Error : \" + str(response.getcode)\n",
    "        print \"\\n\" + str(response.info())\n",
    "\n",
    "except urllib2.HTTPError, err:\n",
    "    print \"Errror executing program:\\nError Code: \", str(err.code), \"\\nMessage:\", err.read()"
   ]
  }
 ],
 "metadata": {
  "kernelspec": {
   "display_name": "Python 2",
   "language": "python",
   "name": "python2"
  },
  "language_info": {
   "codemirror_mode": {
    "name": "ipython",
    "version": 2
   },
   "file_extension": ".py",
   "mimetype": "text/x-python",
   "name": "python",
   "nbconvert_exporter": "python",
   "pygments_lexer": "ipython2",
   "version": "2.7.11"
  }
 },
 "nbformat": 4,
 "nbformat_minor": 0
}
