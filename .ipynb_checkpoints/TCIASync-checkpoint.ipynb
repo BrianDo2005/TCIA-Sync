{
 "cells": [
  {
   "cell_type": "markdown",
   "metadata": {},
   "source": [
    "## TCIA Sync\n",
    "\n",
    "A tool for downloading and keeping TCIA data in sync by requesting a specific Collection, Subject ID or Shared List name."
   ]
  },
  {
   "cell_type": "code",
   "execution_count": 1,
   "metadata": {
    "collapsed": false
   },
   "outputs": [],
   "source": [
    "from TCIAclient import TCIAClient\n",
    "import urllib2, urllib,sys, json, dicom\n",
    "####################################  Function to print server response #######\n",
    "def printServerResponse(response):\n",
    "    if response.getcode() == 200:\n",
    "        print \"Server Returned:\\n\"\n",
    "        print response.read()\n",
    "        print \"\\n\"\n",
    "    else:\n",
    "        print \"Error: \" + str(response.getcode())\n",
    "\n",
    "####################################  Create Clients for Two Different Resources  ####\n",
    "tcia_client = TCIAClient(apiKey = \"5a930950-10b8-4e09-8d78-dc4de7fe42e4\",baseUrl=\"https://services.cancerimagingarchive.net/services/v3\",resource = \"TCIA\")\n",
    "tcia_client2 = TCIAClient(apiKey =\"5a930950-10b8-4e09-8d78-dc4de7fe42e4\",baseUrl=\"https://services.cancerimagingarchive.net/services/v3\",resource=\"SharedList\")\n",
    "\n"
   ]
  },
  {
   "cell_type": "code",
   "execution_count": 2,
   "metadata": {
    "collapsed": false
   },
   "outputs": [
    {
     "name": "stdout",
     "output_type": "stream",
     "text": [
      "Server Returned:\n",
      "\n",
      "[{\"SeriesInstanceUID\":\"1.2.826.0.1.3417726.3.140464.20131001150949437\",\"StudyInstanceUID\":\"1.3.12.2.1107.5.1.4.1001.30000013072312595670300000021\",\"Modality\":\"PT\",\"ProtocolName\":\"PETCT_Body_LM\",\"SeriesDate\":\"2013-07-23\",\"SeriesDescription\":\"LOstatistics_HIcontrast_scan01\",\"BodyPartExamined\":\"PHANTOM\",\"Collection\":\"QIN PET Phantom\",\"Manufacturer\":\"Siemens\",\"ManufacturerModelName\":\"resw\",\"SoftwareVersions\":\"2.2.0.39\",\"Visibility\":\"1\",\"ImageCount\":81},{\"SeriesInstanceUID\":\"1.2.826.0.1.3417726.3.302439.20131002141723906\",\"StudyInstanceUID\":\"1.3.12.2.1107.5.1.4.1001.30000013072312595670300000021\",\"Modality\":\"PT\",\"ProtocolName\":\"PETCT_Body_LM\",\"SeriesDate\":\"2013-07-23\",\"SeriesDescription\":\"LOstatistics_HIcontrast_scan07\",\"BodyPartExamined\":\"PHANTOM\",\"Collection\":\"QIN PET Phantom\",\"Manufacturer\":\"Siemens\",\"ManufacturerModelName\":\"resw\",\"SoftwareVersions\":\"2.2.0.39\",\"Visibility\":\"1\",\"ImageCount\":81},{\"SeriesInstanceUID\":\"1.2.826.0.1.3417726.3.369440.20131002141816640\",\"StudyInstanceUID\":\"1.3.12.2.1107.5.1.4.1001.30000013072312595670300000021\",\"Modality\":\"PT\",\"ProtocolName\":\"PETCT_Body_LM\",\"SeriesDate\":\"2013-07-23\",\"SeriesDescription\":\"LOstatistics_HIcontrast_scan09\",\"BodyPartExamined\":\"PHANTOM\",\"Collection\":\"QIN PET Phantom\",\"Manufacturer\":\"Siemens\",\"ManufacturerModelName\":\"resw\",\"SoftwareVersions\":\"2.2.0.39\",\"Visibility\":\"1\",\"ImageCount\":81},{\"SeriesInstanceUID\":\"1.2.826.0.1.3417726.3.407382.20131002141656390\",\"StudyInstanceUID\":\"1.3.12.2.1107.5.1.4.1001.30000013072312595670300000021\",\"Modality\":\"PT\",\"ProtocolName\":\"PETCT_Body_LM\",\"SeriesDate\":\"2013-07-23\",\"SeriesDescription\":\"LOstatistics_HIcontrast_scan06\",\"BodyPartExamined\":\"PHANTOM\",\"Collection\":\"QIN PET Phantom\",\"Manufacturer\":\"Siemens\",\"ManufacturerModelName\":\"resw\",\"SoftwareVersions\":\"2.2.0.39\",\"Visibility\":\"1\",\"ImageCount\":81},{\"SeriesInstanceUID\":\"1.2.826.0.1.3417726.3.44491.20131002141448359\",\"StudyInstanceUID\":\"1.3.12.2.1107.5.1.4.1001.30000013072312595670300000021\",\"Modality\":\"PT\",\"ProtocolName\":\"PETCT_Body_LM\",\"SeriesDate\":\"2013-07-23\",\"SeriesDescription\":\"LOstatistics_HIcontrast_scan03\",\"BodyPartExamined\":\"PHANTOM\",\"Collection\":\"QIN PET Phantom\",\"Manufacturer\":\"Siemens\",\"ManufacturerModelName\":\"resw\",\"SoftwareVersions\":\"2.2.0.39\",\"Visibility\":\"1\",\"ImageCount\":81},{\"SeriesInstanceUID\":\"1.2.826.0.1.3417726.3.555129.20131002141630265\",\"StudyInstanceUID\":\"1.3.12.2.1107.5.1.4.1001.30000013072312595670300000021\",\"Modality\":\"PT\",\"ProtocolName\":\"PETCT_Body_LM\",\"SeriesDate\":\"2013-07-23\",\"SeriesDescription\":\"LOstatistics_HIcontrast_scan05\",\"BodyPartExamined\":\"PHANTOM\",\"Collection\":\"QIN PET Phantom\",\"Manufacturer\":\"Siemens\",\"ManufacturerModelName\":\"resw\",\"SoftwareVersions\":\"2.2.0.39\",\"Visibility\":\"1\",\"ImageCount\":81},{\"SeriesInstanceUID\":\"1.2.826.0.1.3417726.3.57818.20131002141852109\",\"StudyInstanceUID\":\"1.3.12.2.1107.5.1.4.1001.30000013072312595670300000021\",\"Modality\":\"PT\",\"ProtocolName\":\"PETCT_Body_LM\",\"SeriesDate\":\"2013-07-23\",\"SeriesDescription\":\"LOstatistics_HIcontrast_scan10\",\"BodyPartExamined\":\"PHANTOM\",\"Collection\":\"QIN PET Phantom\",\"Manufacturer\":\"Siemens\",\"ManufacturerModelName\":\"resw\",\"SoftwareVersions\":\"2.2.0.39\",\"Visibility\":\"1\",\"ImageCount\":81},{\"SeriesInstanceUID\":\"1.2.826.0.1.3417726.3.589532.20131002141556593\",\"StudyInstanceUID\":\"1.3.12.2.1107.5.1.4.1001.30000013072312595670300000021\",\"Modality\":\"PT\",\"ProtocolName\":\"PETCT_Body_LM\",\"SeriesDate\":\"2013-07-23\",\"SeriesDescription\":\"LOstatistics_HIcontrast_scan04\",\"BodyPartExamined\":\"PHANTOM\",\"Collection\":\"QIN PET Phantom\",\"Manufacturer\":\"Siemens\",\"ManufacturerModelName\":\"resw\",\"SoftwareVersions\":\"2.2.0.39\",\"Visibility\":\"1\",\"ImageCount\":81},{\"SeriesInstanceUID\":\"1.2.826.0.1.3417726.3.605274.20131001151037296\",\"StudyInstanceUID\":\"1.3.12.2.1107.5.1.4.1001.30000013072312595670300000021\",\"Modality\":\"PT\",\"ProtocolName\":\"PETCT_Body_LM\",\"SeriesDate\":\"2013-07-23\",\"SeriesDescription\":\"LOstatistics_HIcontrast_scan02\",\"BodyPartExamined\":\"PHANTOM\",\"Collection\":\"QIN PET Phantom\",\"Manufacturer\":\"Siemens\",\"ManufacturerModelName\":\"resw\",\"SoftwareVersions\":\"2.2.0.39\",\"Visibility\":\"1\",\"ImageCount\":81},{\"SeriesInstanceUID\":\"1.2.826.0.1.3417726.3.988097.20131002141748796\",\"StudyInstanceUID\":\"1.3.12.2.1107.5.1.4.1001.30000013072312595670300000021\",\"Modality\":\"PT\",\"ProtocolName\":\"PETCT_Body_LM\",\"SeriesDate\":\"2013-07-23\",\"SeriesDescription\":\"LOstatistics_HIcontrast_scan08\",\"BodyPartExamined\":\"PHANTOM\",\"Collection\":\"QIN PET Phantom\",\"Manufacturer\":\"Siemens\",\"ManufacturerModelName\":\"resw\",\"SoftwareVersions\":\"2.2.0.39\",\"Visibility\":\"1\",\"ImageCount\":81},{\"SeriesInstanceUID\":\"1.3.12.2.1107.5.1.4.1001.30000013072513125762500009613\",\"StudyInstanceUID\":\"1.3.12.2.1107.5.1.4.1001.30000013072312595670300000021\",\"Modality\":\"PT\",\"ProtocolName\":\"PETCT_Body_LM\",\"SeriesDate\":\"2013-07-23\",\"SeriesDescription\":\"HIstatistics_HIcontrast\",\"BodyPartExamined\":\"PHANTOM\",\"SeriesNumber\":\"4.000000\",\"Collection\":\"QIN PET Phantom\",\"Manufacturer\":\"SIEMENS\",\"ManufacturerModelName\":\"1093\",\"SoftwareVersions\":\"PET/CT 2009A\",\"Visibility\":\"1\",\"ImageCount\":81},{\"SeriesInstanceUID\":\"1.2.826.0.1.3417726.3.232244.20131001125027031\",\"StudyInstanceUID\":\"1.3.12.2.1107.5.1.4.1001.30000013072312595670300000027\",\"Modality\":\"PT\",\"ProtocolName\":\"PETCT_Body_LM\",\"SeriesDate\":\"2013-07-23\",\"SeriesDescription\":\"LOstatistics_LOcontrast_scan07\",\"BodyPartExamined\":\"PHANTOM\",\"Collection\":\"QIN PET Phantom\",\"Manufacturer\":\"Siemens\",\"ManufacturerModelName\":\"resw\",\"SoftwareVersions\":\"2.2.0.39\",\"Visibility\":\"1\",\"ImageCount\":81},{\"SeriesInstanceUID\":\"1.2.826.0.1.3417726.3.273063.20131001124832562\",\"StudyInstanceUID\":\"1.3.12.2.1107.5.1.4.1001.30000013072312595670300000027\",\"Modality\":\"PT\",\"ProtocolName\":\"PETCT_Body_LM\",\"SeriesDate\":\"2013-07-23\",\"SeriesDescription\":\"LOstatistics_LOcontrast_scan04\",\"BodyPartExamined\":\"PHANTOM\",\"Collection\":\"QIN PET Phantom\",\"Manufacturer\":\"Siemens\",\"ManufacturerModelName\":\"resw\",\"SoftwareVersions\":\"2.2.0.39\",\"Visibility\":\"1\",\"ImageCount\":81},{\"SeriesInstanceUID\":\"1.2.826.0.1.3417726.3.342456.20131001124909109\",\"StudyInstanceUID\":\"1.3.12.2.1107.5.1.4.1001.30000013072312595670300000027\",\"Modality\":\"PT\",\"ProtocolName\":\"PETCT_Body_LM\",\"SeriesDate\":\"2013-07-23\",\"SeriesDescription\":\"LOstatistics_LOcontrast_scan05\",\"BodyPartExamined\":\"PHANTOM\",\"Collection\":\"QIN PET Phantom\",\"Manufacturer\":\"Siemens\",\"ManufacturerModelName\":\"resw\",\"SoftwareVersions\":\"2.2.0.39\",\"Visibility\":\"1\",\"ImageCount\":81},{\"SeriesInstanceUID\":\"1.2.826.0.1.3417726.3.405294.20131001124434437\",\"StudyInstanceUID\":\"1.3.12.2.1107.5.1.4.1001.30000013072312595670300000027\",\"Modality\":\"PT\",\"ProtocolName\":\"PETCT_Body_LM\",\"SeriesDate\":\"2013-07-23\",\"SeriesDescription\":\"LOstatistics_LOcontrast_scan01\",\"BodyPartExamined\":\"PHANTOM\",\"Collection\":\"QIN PET Phantom\",\"Manufacturer\":\"Siemens\",\"ManufacturerModelName\":\"resw\",\"SoftwareVersions\":\"2.2.0.39\",\"Visibility\":\"1\",\"ImageCount\":81},{\"SeriesInstanceUID\":\"1.2.826.0.1.3417726.3.572983.20131001125145828\",\"StudyInstanceUID\":\"1.3.12.2.1107.5.1.4.1001.30000013072312595670300000027\",\"Modality\":\"PT\",\"ProtocolName\":\"PETCT_Body_LM\",\"SeriesDate\":\"2013-07-23\",\"SeriesDescription\":\"LOstatistics_LOcontrast_scan10\",\"BodyPartExamined\":\"PHANTOM\",\"Collection\":\"QIN PET Phantom\",\"Manufacturer\":\"Siemens\",\"ManufacturerModelName\":\"resw\",\"SoftwareVersions\":\"2.2.0.39\",\"Visibility\":\"1\",\"ImageCount\":81},{\"SeriesInstanceUID\":\"1.2.826.0.1.3417726.3.664132.20131001125122687\",\"StudyInstanceUID\":\"1.3.12.2.1107.5.1.4.1001.30000013072312595670300000027\",\"Modality\":\"PT\",\"ProtocolName\":\"PETCT_Body_LM\",\"SeriesDate\":\"2013-07-23\",\"SeriesDescription\":\"LOstatistics_LOcontrast_scan09\",\"BodyPartExamined\":\"PHANTOM\",\"Collection\":\"QIN PET Phantom\",\"Manufacturer\":\"Siemens\",\"ManufacturerModelName\":\"resw\",\"SoftwareVersions\":\"2.2.0.39\",\"Visibility\":\"1\",\"ImageCount\":81},{\"SeriesInstanceUID\":\"1.2.826.0.1.3417726.3.732177.20131001125053046\",\"StudyInstanceUID\":\"1.3.12.2.1107.5.1.4.1001.30000013072312595670300000027\",\"Modality\":\"PT\",\"ProtocolName\":\"PETCT_Body_LM\",\"SeriesDate\":\"2013-07-23\",\"SeriesDescription\":\"LOstatistics_LOcontrast_scan08\",\"BodyPartExamined\":\"PHANTOM\",\"Collection\":\"QIN PET Phantom\",\"Manufacturer\":\"Siemens\",\"ManufacturerModelName\":\"resw\",\"SoftwareVersions\":\"2.2.0.39\",\"Visibility\":\"1\",\"ImageCount\":81},{\"SeriesInstanceUID\":\"1.2.826.0.1.3417726.3.745891.20131001125001109\",\"StudyInstanceUID\":\"1.3.12.2.1107.5.1.4.1001.30000013072312595670300000027\",\"Modality\":\"PT\",\"ProtocolName\":\"PETCT_Body_LM\",\"SeriesDate\":\"2013-07-23\",\"SeriesDescription\":\"LOstatistics_LOcontrast_scan06\",\"BodyPartExamined\":\"PHANTOM\",\"Collection\":\"QIN PET Phantom\",\"Manufacturer\":\"Siemens\",\"ManufacturerModelName\":\"resw\",\"SoftwareVersions\":\"2.2.0.39\",\"Visibility\":\"1\",\"ImageCount\":81},{\"SeriesInstanceUID\":\"1.2.826.0.1.3417726.3.796360.20131001124725031\",\"StudyInstanceUID\":\"1.3.12.2.1107.5.1.4.1001.30000013072312595670300000027\",\"Modality\":\"PT\",\"ProtocolName\":\"PETCT_Body_LM\",\"SeriesDate\":\"2013-07-23\",\"SeriesDescription\":\"LOstatistics_LOcontrast_scan02\",\"BodyPartExamined\":\"PHANTOM\",\"Collection\":\"QIN PET Phantom\",\"Manufacturer\":\"Siemens\",\"ManufacturerModelName\":\"resw\",\"SoftwareVersions\":\"2.2.0.39\",\"Visibility\":\"1\",\"ImageCount\":81},{\"SeriesInstanceUID\":\"1.2.826.0.1.3417726.3.810389.20131001124800015\",\"StudyInstanceUID\":\"1.3.12.2.1107.5.1.4.1001.30000013072312595670300000027\",\"Modality\":\"PT\",\"ProtocolName\":\"PETCT_Body_LM\",\"SeriesDate\":\"2013-07-23\",\"SeriesDescription\":\"LOstatistics_LOcontrast_scan03\",\"BodyPartExamined\":\"PHANTOM\",\"Collection\":\"QIN PET Phantom\",\"Manufacturer\":\"Siemens\",\"ManufacturerModelName\":\"resw\",\"SoftwareVersions\":\"2.2.0.39\",\"Visibility\":\"1\",\"ImageCount\":81},{\"SeriesInstanceUID\":\"1.3.12.2.1107.5.1.4.1001.30000013072513125762500009702\",\"StudyInstanceUID\":\"1.3.12.2.1107.5.1.4.1001.30000013072312595670300000027\",\"Modality\":\"PT\",\"ProtocolName\":\"PETCT_Body_LM\",\"SeriesDate\":\"2013-07-23\",\"SeriesDescription\":\"HIstatistics_LOcontrast\",\"BodyPartExamined\":\"PHANTOM\",\"SeriesNumber\":\"4.000000\",\"Collection\":\"QIN PET Phantom\",\"Manufacturer\":\"SIEMENS\",\"ManufacturerModelName\":\"1093\",\"SoftwareVersions\":\"PET/CT 2009A\",\"Visibility\":\"1\",\"ImageCount\":81},{\"SeriesInstanceUID\":\"1.2.840.113619.2.25.4.1263093.1399752744.630\",\"StudyInstanceUID\":\"1.2.840.113619.2.25.4.1263093.1399752728.329\",\"Modality\":\"PT\",\"SeriesDate\":\"2013-09-24\",\"SeriesDescription\":\"LOstatistics_LOcontrast_scan08\",\"BodyPartExamined\":\"PHANTOM\",\"SeriesNumber\":\"413.000000\",\"Collection\":\"QIN PET Phantom\",\"Manufacturer\":\"GE MEDICAL SYSTEMS\",\"ManufacturerModelName\":\"Discovery STE\",\"SoftwareVersions\":\"41.04\",\"Visibility\":\"1\",\"ImageCount\":47},{\"SeriesInstanceUID\":\"1.2.840.113619.2.25.4.1263093.1399752746.26\",\"StudyInstanceUID\":\"1.2.840.113619.2.25.4.1263093.1399752728.329\",\"Modality\":\"PT\",\"SeriesDate\":\"2013-09-24\",\"SeriesDescription\":\"LOstatistics_LOcontrast_scan07\",\"BodyPartExamined\":\"PHANTOM\",\"SeriesNumber\":\"412.000000\",\"Collection\":\"QIN PET Phantom\",\"Manufacturer\":\"GE MEDICAL SYSTEMS\",\"ManufacturerModelName\":\"Discovery STE\",\"SoftwareVersions\":\"41.04\",\"Visibility\":\"1\",\"ImageCount\":47},{\"SeriesInstanceUID\":\"1.2.840.113619.2.25.4.1263093.1399752747.366\",\"StudyInstanceUID\":\"1.2.840.113619.2.25.4.1263093.1399752728.329\",\"Modality\":\"PT\",\"SeriesDate\":\"2013-09-24\",\"SeriesDescription\":\"LOstatistics_LOcontrast_scan06\",\"BodyPartExamined\":\"PHANTOM\",\"SeriesNumber\":\"411.000000\",\"Collection\":\"QIN PET Phantom\",\"Manufacturer\":\"GE MEDICAL SYSTEMS\",\"ManufacturerModelName\":\"Discovery STE\",\"SoftwareVersions\":\"41.04\",\"Visibility\":\"1\",\"ImageCount\":47},{\"SeriesInstanceUID\":\"1.2.840.113619.2.25.4.1263093.1399752748.728\",\"StudyInstanceUID\":\"1.2.840.113619.2.25.4.1263093.1399752728.329\",\"Modality\":\"PT\",\"SeriesDate\":\"2013-09-24\",\"SeriesDescription\":\"LOstatistics_LOcontrast_scan05\",\"BodyPartExamined\":\"PHANTOM\",\"SeriesNumber\":\"410.000000\",\"Collection\":\"QIN PET Phantom\",\"Manufacturer\":\"GE MEDICAL SYSTEMS\",\"ManufacturerModelName\":\"Discovery STE\",\"SoftwareVersions\":\"41.04\",\"Visibility\":\"1\",\"ImageCount\":47},{\"SeriesInstanceUID\":\"1.2.840.113619.2.25.4.1263093.1399752750.123\",\"StudyInstanceUID\":\"1.2.840.113619.2.25.4.1263093.1399752728.329\",\"Modality\":\"PT\",\"SeriesDate\":\"2013-09-24\",\"SeriesDescription\":\"LOstatistics_LOcontrast_scan04\",\"BodyPartExamined\":\"PHANTOM\",\"SeriesNumber\":\"409.000000\",\"Collection\":\"QIN PET Phantom\",\"Manufacturer\":\"GE MEDICAL SYSTEMS\",\"ManufacturerModelName\":\"Discovery STE\",\"SoftwareVersions\":\"41.04\",\"Visibility\":\"1\",\"ImageCount\":47},{\"SeriesInstanceUID\":\"1.2.840.113619.2.25.4.1263093.1399752751.566\",\"StudyInstanceUID\":\"1.2.840.113619.2.25.4.1263093.1399752728.329\",\"Modality\":\"PT\",\"SeriesDate\":\"2013-09-24\",\"SeriesDescription\":\"LOstatistics_LOcontrast_scan03\",\"BodyPartExamined\":\"PHANTOM\",\"SeriesNumber\":\"408.000000\",\"Collection\":\"QIN PET Phantom\",\"Manufacturer\":\"GE MEDICAL SYSTEMS\",\"ManufacturerModelName\":\"Discovery STE\",\"SoftwareVersions\":\"41.04\",\"Visibility\":\"1\",\"ImageCount\":47},{\"SeriesInstanceUID\":\"1.2.840.113619.2.25.4.1263093.1399752752.934\",\"StudyInstanceUID\":\"1.2.840.113619.2.25.4.1263093.1399752728.329\",\"Modality\":\"PT\",\"SeriesDate\":\"2013-09-24\",\"SeriesDescription\":\"LOstatistics_LOcontrast_scan02\",\"BodyPartExamined\":\"PHANTOM\",\"SeriesNumber\":\"407.000000\",\"Collection\":\"QIN PET Phantom\",\"Manufacturer\":\"GE MEDICAL SYSTEMS\",\"ManufacturerModelName\":\"Discovery STE\",\"SoftwareVersions\":\"41.04\",\"Visibility\":\"1\",\"ImageCount\":47},{\"SeriesInstanceUID\":\"1.2.840.113619.2.25.4.1263093.1399752754.380\",\"StudyInstanceUID\":\"1.2.840.113619.2.25.4.1263093.1399752728.329\",\"Modality\":\"PT\",\"SeriesDate\":\"2013-09-24\",\"SeriesDescription\":\"LOstatistics_LOcontrast_scan01\",\"BodyPartExamined\":\"PHANTOM\",\"SeriesNumber\":\"406.000000\",\"Collection\":\"QIN PET Phantom\",\"Manufacturer\":\"GE MEDICAL SYSTEMS\",\"ManufacturerModelName\":\"Discovery STE\",\"SoftwareVersions\":\"41.04\",\"Visibility\":\"1\",\"ImageCount\":47},{\"SeriesInstanceUID\":\"1.2.840.113619.2.25.4.1263093.1399752758.570\",\"StudyInstanceUID\":\"1.2.840.113619.2.25.4.1263093.1399752728.329\",\"Modality\":\"PT\",\"ProtocolName\":\"FDG 2D 6AFOV TORSO\",\"SeriesDate\":\"2013-09-24\",\"SeriesDescription\":\"HIstatistics_LOcontrast\",\"BodyPartExamined\":\"PHANTOM\",\"SeriesNumber\":\"403.000000\",\"Collection\":\"QIN PET Phantom\",\"Manufacturer\":\"GE MEDICAL SYSTEMS\",\"ManufacturerModelName\":\"Discovery STE\",\"SoftwareVersions\":\"41.04\",\"Visibility\":\"1\",\"ImageCount\":47},{\"SeriesInstanceUID\":\"1.2.840.113619.2.25.4.1263093.1399752762.544\",\"StudyInstanceUID\":\"1.2.840.113619.2.25.4.1263093.1399752728.329\",\"Modality\":\"PT\",\"SeriesDate\":\"2013-09-24\",\"SeriesDescription\":\"LOstatistics_LOcontrast_scan10\",\"BodyPartExamined\":\"PHANTOM\",\"SeriesNumber\":\"415.000000\",\"Collection\":\"QIN PET Phantom\",\"Manufacturer\":\"GE MEDICAL SYSTEMS\",\"ManufacturerModelName\":\"Discovery STE\",\"SoftwareVersions\":\"41.04\",\"Visibility\":\"1\",\"ImageCount\":47},{\"SeriesInstanceUID\":\"1.2.840.113619.2.25.4.1263093.1399752763.896\",\"StudyInstanceUID\":\"1.2.840.113619.2.25.4.1263093.1399752728.329\",\"Modality\":\"PT\",\"SeriesDate\":\"2013-09-24\",\"SeriesDescription\":\"LOstatistics_LOcontrast_scan09\",\"BodyPartExamined\":\"PHANTOM\",\"SeriesNumber\":\"414.000000\",\"Collection\":\"QIN PET Phantom\",\"Manufacturer\":\"GE MEDICAL SYSTEMS\",\"ManufacturerModelName\":\"Discovery STE\",\"SoftwareVersions\":\"41.04\",\"Visibility\":\"1\",\"ImageCount\":47},{\"SeriesInstanceUID\":\"1.2.840.113619.2.25.4.1263093.1399752809.266\",\"StudyInstanceUID\":\"1.2.840.113619.2.25.4.1263093.1399752806.822\",\"Modality\":\"PT\",\"SeriesDate\":\"2013-09-24\",\"SeriesDescription\":\"LOstatistics_HIcontrast_scan03\",\"BodyPartExamined\":\"PHANTOM\",\"SeriesNumber\":\"412.000000\",\"Collection\":\"QIN PET Phantom\",\"Manufacturer\":\"GE MEDICAL SYSTEMS\",\"ManufacturerModelName\":\"Discovery STE\",\"SoftwareVersions\":\"41.04\",\"Visibility\":\"1\",\"ImageCount\":47},{\"SeriesInstanceUID\":\"1.2.840.113619.2.25.4.1263093.1399752810.238\",\"StudyInstanceUID\":\"1.2.840.113619.2.25.4.1263093.1399752806.822\",\"Modality\":\"PT\",\"SeriesDate\":\"2013-09-24\",\"SeriesDescription\":\"LOstatistics_HIcontrast_scan02\",\"BodyPartExamined\":\"PHANTOM\",\"SeriesNumber\":\"410.000000\",\"Collection\":\"QIN PET Phantom\",\"Manufacturer\":\"GE MEDICAL SYSTEMS\",\"ManufacturerModelName\":\"Discovery STE\",\"SoftwareVersions\":\"41.04\",\"Visibility\":\"1\",\"ImageCount\":47},{\"SeriesInstanceUID\":\"1.2.840.113619.2.25.4.1263093.1399752812.167\",\"StudyInstanceUID\":\"1.2.840.113619.2.25.4.1263093.1399752806.822\",\"Modality\":\"PT\",\"SeriesDate\":\"2013-09-24\",\"SeriesDescription\":\"LOstatistics_HIcontrast_scan01\",\"BodyPartExamined\":\"PHANTOM\",\"SeriesNumber\":\"406.000000\",\"Collection\":\"QIN PET Phantom\",\"Manufacturer\":\"GE MEDICAL SYSTEMS\",\"ManufacturerModelName\":\"Discovery STE\",\"SoftwareVersions\":\"41.04\",\"Visibility\":\"1\",\"ImageCount\":47},{\"SeriesInstanceUID\":\"1.2.840.113619.2.25.4.1263093.1399752828.701\",\"StudyInstanceUID\":\"1.2.840.113619.2.25.4.1263093.1399752806.822\",\"Modality\":\"PT\",\"SeriesDate\":\"2013-09-24\",\"SeriesDescription\":\"LOstatistics_HIcontrast_scan10\",\"BodyPartExamined\":\"PHANTOM\",\"SeriesNumber\":\"433.000000\",\"Collection\":\"QIN PET Phantom\",\"Manufacturer\":\"GE MEDICAL SYSTEMS\",\"ManufacturerModelName\":\"Discovery STE\",\"SoftwareVersions\":\"41.04\",\"Visibility\":\"1\",\"ImageCount\":47},{\"SeriesInstanceUID\":\"1.2.840.113619.2.25.4.1263093.1399752831.738\",\"StudyInstanceUID\":\"1.2.840.113619.2.25.4.1263093.1399752806.822\",\"Modality\":\"PT\",\"SeriesDate\":\"2013-09-24\",\"SeriesDescription\":\"LOstatistics_HIcontrast_scan09\",\"BodyPartExamined\":\"PHANTOM\",\"SeriesNumber\":\"430.000000\",\"Collection\":\"QIN PET Phantom\",\"Manufacturer\":\"GE MEDICAL SYSTEMS\",\"ManufacturerModelName\":\"Discovery STE\",\"SoftwareVersions\":\"41.04\",\"Visibility\":\"1\",\"ImageCount\":47},{\"SeriesInstanceUID\":\"1.2.840.113619.2.25.4.1263093.1399752834.811\",\"StudyInstanceUID\":\"1.2.840.113619.2.25.4.1263093.1399752806.822\",\"Modality\":\"PT\",\"SeriesDate\":\"2013-09-24\",\"SeriesDescription\":\"LOstatistics_HIcontrast_scan08\",\"BodyPartExamined\":\"PHANTOM\",\"SeriesNumber\":\"427.000000\",\"Collection\":\"QIN PET Phantom\",\"Manufacturer\":\"GE MEDICAL SYSTEMS\",\"ManufacturerModelName\":\"Discovery STE\",\"SoftwareVersions\":\"41.04\",\"Visibility\":\"1\",\"ImageCount\":47},{\"SeriesInstanceUID\":\"1.2.840.113619.2.25.4.1263093.1399752837.935\",\"StudyInstanceUID\":\"1.2.840.113619.2.25.4.1263093.1399752806.822\",\"Modality\":\"PT\",\"SeriesDate\":\"2013-09-24\",\"SeriesDescription\":\"LOstatistics_HIcontrast_scan07\",\"BodyPartExamined\":\"PHANTOM\",\"SeriesNumber\":\"424.000000\",\"Collection\":\"QIN PET Phantom\",\"Manufacturer\":\"GE MEDICAL SYSTEMS\",\"ManufacturerModelName\":\"Discovery STE\",\"SoftwareVersions\":\"41.04\",\"Visibility\":\"1\",\"ImageCount\":47},{\"SeriesInstanceUID\":\"1.2.840.113619.2.25.4.1263093.1399752841.332\",\"StudyInstanceUID\":\"1.2.840.113619.2.25.4.1263093.1399752806.822\",\"Modality\":\"PT\",\"SeriesDate\":\"2013-09-24\",\"SeriesDescription\":\"LOstatistics_HIcontrast_scan06\",\"BodyPartExamined\":\"PHANTOM\",\"SeriesNumber\":\"421.000000\",\"Collection\":\"QIN PET Phantom\",\"Manufacturer\":\"GE MEDICAL SYSTEMS\",\"ManufacturerModelName\":\"Discovery STE\",\"SoftwareVersions\":\"41.04\",\"Visibility\":\"1\",\"ImageCount\":47},{\"SeriesInstanceUID\":\"1.2.840.113619.2.25.4.1263093.1399752844.405\",\"StudyInstanceUID\":\"1.2.840.113619.2.25.4.1263093.1399752806.822\",\"Modality\":\"PT\",\"SeriesDate\":\"2013-09-24\",\"SeriesDescription\":\"LOstatistics_HIcontrast_scan05\",\"BodyPartExamined\":\"PHANTOM\",\"SeriesNumber\":\"418.000000\",\"Collection\":\"QIN PET Phantom\",\"Manufacturer\":\"GE MEDICAL SYSTEMS\",\"ManufacturerModelName\":\"Discovery STE\",\"SoftwareVersions\":\"41.04\",\"Visibility\":\"1\",\"ImageCount\":47},{\"SeriesInstanceUID\":\"1.2.840.113619.2.25.4.1263093.1399752847.968\",\"StudyInstanceUID\":\"1.2.840.113619.2.25.4.1263093.1399752806.822\",\"Modality\":\"PT\",\"SeriesDate\":\"2013-09-24\",\"SeriesDescription\":\"LOstatistics_HIcontrast_scan04\",\"BodyPartExamined\":\"PHANTOM\",\"SeriesNumber\":\"415.000000\",\"Collection\":\"QIN PET Phantom\",\"Manufacturer\":\"GE MEDICAL SYSTEMS\",\"ManufacturerModelName\":\"Discovery STE\",\"SoftwareVersions\":\"41.04\",\"Visibility\":\"1\",\"ImageCount\":47},{\"SeriesInstanceUID\":\"1.2.840.113619.2.25.4.1263093.1399752854.328\",\"StudyInstanceUID\":\"1.2.840.113619.2.25.4.1263093.1399752806.822\",\"Modality\":\"PT\",\"ProtocolName\":\"FDG 2D 6AFOV TORSO\",\"SeriesDate\":\"2013-09-24\",\"SeriesDescription\":\"HIstatistics_HIcontrast\",\"BodyPartExamined\":\"PHANTOM\",\"SeriesNumber\":\"403.000000\",\"Collection\":\"QIN PET Phantom\",\"Manufacturer\":\"GE MEDICAL SYSTEMS\",\"ManufacturerModelName\":\"Discovery STE\",\"SoftwareVersions\":\"41.04\",\"Visibility\":\"1\",\"ImageCount\":47}]\n",
      "\n",
      "\n"
     ]
    }
   ],
   "source": [
    "# Test get_series by collection \n",
    "\n",
    "try:\n",
    "    response = tcia_client.get_series(collection = \"QIN PET Phantom\", outputFormat = \"json\")\n",
    "    printServerResponse(response);\n",
    "\n",
    "except urllib2.HTTPError, err:\n",
    "    print \"Errror executing program:\\nError Code: \", str(err.code), \"\\nMessage:\", err.read()\n"
   ]
  },
  {
   "cell_type": "code",
   "execution_count": 5,
   "metadata": {
    "collapsed": false
   },
   "outputs": [
    {
     "name": "stdout",
     "output_type": "stream",
     "text": [
      "1.2.826.0.1.3417726.3.140464.20131001150949437\n",
      "1.2.826.0.1.3417726.3.302439.20131002141723906\n",
      "1.2.826.0.1.3417726.3.369440.20131002141816640\n",
      "1.2.826.0.1.3417726.3.407382.20131002141656390\n",
      "1.2.826.0.1.3417726.3.44491.20131002141448359\n",
      "1.2.826.0.1.3417726.3.555129.20131002141630265\n",
      "1.2.826.0.1.3417726.3.57818.20131002141852109\n",
      "1.2.826.0.1.3417726.3.589532.20131002141556593\n",
      "1.2.826.0.1.3417726.3.605274.20131001151037296\n",
      "1.2.826.0.1.3417726.3.988097.20131002141748796\n",
      "1.3.12.2.1107.5.1.4.1001.30000013072513125762500009613\n",
      "1.2.826.0.1.3417726.3.232244.20131001125027031\n",
      "1.2.826.0.1.3417726.3.273063.20131001124832562\n",
      "1.2.826.0.1.3417726.3.342456.20131001124909109\n",
      "1.2.826.0.1.3417726.3.405294.20131001124434437\n",
      "1.2.826.0.1.3417726.3.572983.20131001125145828\n",
      "1.2.826.0.1.3417726.3.664132.20131001125122687\n",
      "1.2.826.0.1.3417726.3.732177.20131001125053046\n",
      "1.2.826.0.1.3417726.3.745891.20131001125001109\n",
      "1.2.826.0.1.3417726.3.796360.20131001124725031\n",
      "1.2.826.0.1.3417726.3.810389.20131001124800015\n",
      "1.3.12.2.1107.5.1.4.1001.30000013072513125762500009702\n",
      "1.2.840.113619.2.25.4.1263093.1399752744.630\n",
      "1.2.840.113619.2.25.4.1263093.1399752746.26\n",
      "1.2.840.113619.2.25.4.1263093.1399752747.366\n",
      "1.2.840.113619.2.25.4.1263093.1399752748.728\n",
      "1.2.840.113619.2.25.4.1263093.1399752750.123\n",
      "1.2.840.113619.2.25.4.1263093.1399752751.566\n",
      "1.2.840.113619.2.25.4.1263093.1399752752.934\n",
      "1.2.840.113619.2.25.4.1263093.1399752754.380\n",
      "1.2.840.113619.2.25.4.1263093.1399752758.570\n",
      "1.2.840.113619.2.25.4.1263093.1399752762.544\n",
      "1.2.840.113619.2.25.4.1263093.1399752763.896\n",
      "1.2.840.113619.2.25.4.1263093.1399752809.266\n",
      "1.2.840.113619.2.25.4.1263093.1399752810.238\n",
      "1.2.840.113619.2.25.4.1263093.1399752812.167\n",
      "1.2.840.113619.2.25.4.1263093.1399752828.701\n",
      "1.2.840.113619.2.25.4.1263093.1399752831.738\n",
      "1.2.840.113619.2.25.4.1263093.1399752834.811\n",
      "1.2.840.113619.2.25.4.1263093.1399752837.935\n",
      "1.2.840.113619.2.25.4.1263093.1399752841.332\n",
      "1.2.840.113619.2.25.4.1263093.1399752844.405\n",
      "1.2.840.113619.2.25.4.1263093.1399752847.968\n",
      "1.2.840.113619.2.25.4.1263093.1399752854.328\n"
     ]
    }
   ],
   "source": [
    "# test get_series by collection retrieving only series UIDs\n",
    "\n",
    "try:\n",
    "    response = tcia_client.get_series(collection = \"QIN PET Phantom\", outputFormat = \"json\")\n",
    "    json_obj = json.load(response)\n",
    "    \n",
    "    for i in json_obj:\n",
    "        print i['SeriesInstanceUID']\n",
    "\n",
    "except urllib2.HTTPError, err:\n",
    "    print \"Errror executing program:\\nError Code: \", str(err.code), \"\\nMessage:\", err.read()"
   ]
  },
  {
   "cell_type": "code",
   "execution_count": null,
   "metadata": {
    "collapsed": false
   },
   "outputs": [],
   "source": [
    "# Test get_series by patient ID\n",
    "\n",
    "try:\n",
    "    response = tcia_client.get_series(patientID = \"TCGA-AO-A03M\" , outputFormat = \"json\")\n",
    "    json_obj = json.load(response)\n",
    "    \n",
    "    for i in json_obj:\n",
    "        print i['SeriesInstanceUID']\n",
    "    \n",
    "except urllib2.HTTPError, err:\n",
    "    print \"Errror executing program:\\nError Code: \", str(err.code), \"\\nMessage:\", err.read()\n"
   ]
  },
  {
   "cell_type": "code",
   "execution_count": 8,
   "metadata": {
    "collapsed": false,
    "scrolled": true
   },
   "outputs": [
    {
     "name": "stdout",
     "output_type": "stream",
     "text": [
      "https://services.cancerimagingarchive.net/services/v3/SharedList/query/ContentsByName\n",
      "1.3.6.1.4.1.14519.5.2.1.1706.4001.808966361042404019648865097575\n",
      "1.3.6.1.4.1.14519.5.2.1.1706.4001.283912726091613148226144162419\n",
      "1.3.6.1.4.1.14519.5.2.1.1706.4001.326086791949938633385725998688\n",
      "1.3.6.1.4.1.14519.5.2.1.1706.4001.318014593294036997175764194815\n",
      "1.3.6.1.4.1.14519.5.2.1.1706.4001.277396023952454654229974612386\n",
      "1.3.6.1.4.1.14519.5.2.1.1706.4001.929166576410729967676059227597\n",
      "1.3.6.1.4.1.14519.5.2.1.1706.4001.339032935303872986463231672586\n",
      "1.3.6.1.4.1.14519.5.2.1.1706.4001.166909646801864710106680106577\n",
      "1.3.6.1.4.1.14519.5.2.1.1706.4001.273700949846991110226831783061\n",
      "1.3.6.1.4.1.14519.5.2.1.1706.4001.281875730208149977361226669364\n",
      "1.3.6.1.4.1.14519.5.2.1.1706.4001.999878355123004837026028734320\n",
      "1.3.6.1.4.1.14519.5.2.1.1706.4001.100169298880243060237139829068\n",
      "1.3.6.1.4.1.14519.5.2.1.1706.4001.667874895580351761795325882706\n",
      "1.3.6.1.4.1.14519.5.2.1.1706.4001.315980779833795710131738723922\n",
      "1.3.6.1.4.1.14519.5.2.1.1706.4001.240348717655601689187872263857\n",
      "1.3.6.1.4.1.14519.5.2.1.1706.4001.204054528317611873722753919694\n",
      "1.3.6.1.4.1.14519.5.2.1.1706.4001.153589042433684905632259005791\n",
      "1.3.6.1.4.1.14519.5.2.1.1706.4001.220079143670418535732331991740\n",
      "1.3.6.1.4.1.14519.5.2.1.1706.4001.170251499565901046332998726504\n",
      "1.3.6.1.4.1.14519.5.2.1.1706.4001.251438991621054435135635316288\n",
      "1.3.6.1.4.1.14519.5.2.1.1706.4001.202982485418599633064588994497\n",
      "1.3.6.1.4.1.14519.5.2.1.1706.4001.643840351201993277528058523822\n",
      "1.3.6.1.4.1.14519.5.2.1.1706.4001.117569656277605460605289502082\n",
      "1.3.6.1.4.1.14519.5.2.1.1706.4001.769579767788431533139923490444\n",
      "1.3.6.1.4.1.14519.5.2.1.1706.4001.350041081544003114049090849191\n"
     ]
    }
   ],
   "source": [
    "# Test shared list content_by_name\n",
    "try:\n",
    "    response = tcia_client2.contents_by_name(name = \"sharedListApiUnitTest\")\n",
    "    json_obj = json.load(response)\n",
    "    \n",
    "    for i in json_obj:\n",
    "        print i['SERIES_INSTANCE_UID']\n",
    "        \n",
    "except urllib2.HTTPError, err:\n",
    "    print \"Errror executing program:\\nError Code: \", str(err.code), \"\\nMessage:\", err.read()\n"
   ]
  },
  {
   "cell_type": "code",
   "execution_count": null,
   "metadata": {
    "collapsed": false
   },
   "outputs": [],
   "source": [
    "# Test get_image. \n",
    "# NOTE: Image response consumed differently\n",
    "try:\n",
    "    reponse = tcia_client.get_image(seriesInstanceUid =\"1.3.6.1.4.1.14519.5.2.1.7695.4001.306204232344341694648035234440\");\n",
    "\n",
    "    if response.getcode() == 200:\n",
    "        print \"\\n\" + str(response.info())\n",
    "        bytesRead = response.read()\n",
    "        fout = open(\"images.zip\",\"wb\")\n",
    "        fout.write(bytesRead)\n",
    "        fout.close()\n",
    "        print \"\\nDownloaded file images.zip from the server\"\n",
    "    else:\n",
    "        print \"Error : \" + str(response.getcode)\n",
    "        print \"\\n\" + str(response.info())\n",
    "\n",
    "except urllib2.HTTPError, err:\n",
    "    print \"Errror executing program:\\nError Code: \", str(err.code), \"\\nMessage:\", err.read()"
   ]
  },
  {
   "cell_type": "markdown",
   "metadata": {
    "collapsed": true
   },
   "source": [
    "## Execute dcmdump to extract local series UIDs"
   ]
  },
  {
   "cell_type": "code",
   "execution_count": 26,
   "metadata": {
    "collapsed": false
   },
   "outputs": [
    {
     "ename": "CalledProcessError",
     "evalue": "Command 'dcmdump -q +r +sd +P \"0020,000E\" test-data' returned non-zero exit status 2",
     "output_type": "error",
     "traceback": [
      "\u001b[1;31m---------------------------------------------------------------------------\u001b[0m",
      "\u001b[1;31mCalledProcessError\u001b[0m                        Traceback (most recent call last)",
      "\u001b[1;32m<ipython-input-26-2d29086a5f05>\u001b[0m in \u001b[0;36m<module>\u001b[1;34m()\u001b[0m\n\u001b[0;32m      1\u001b[0m \u001b[1;32mimport\u001b[0m \u001b[0msubprocess\u001b[0m\u001b[1;33m\u001b[0m\u001b[0m\n\u001b[0;32m      2\u001b[0m \u001b[1;33m\u001b[0m\u001b[0m\n\u001b[1;32m----> 3\u001b[1;33m \u001b[0mseries_uids\u001b[0m \u001b[1;33m=\u001b[0m \u001b[0msubprocess\u001b[0m\u001b[1;33m.\u001b[0m\u001b[0mcheck_output\u001b[0m\u001b[1;33m(\u001b[0m\u001b[1;34m\"dcmdump -q +r +sd +P \\\"0020,000E\\\" test-data\"\u001b[0m\u001b[1;33m,\u001b[0m \u001b[0mshell\u001b[0m\u001b[1;33m=\u001b[0m\u001b[0mTrue\u001b[0m\u001b[1;33m)\u001b[0m\u001b[1;33m\u001b[0m\u001b[0m\n\u001b[0m\u001b[0;32m      4\u001b[0m \u001b[1;33m\u001b[0m\u001b[0m\n\u001b[0;32m      5\u001b[0m \u001b[1;32mprint\u001b[0m\u001b[1;33m(\u001b[0m\u001b[0mseries_uids\u001b[0m\u001b[1;33m)\u001b[0m\u001b[1;33m\u001b[0m\u001b[0m\n",
      "\u001b[1;32mC:\\Users\\kirbyju\\AppData\\Local\\Continuum\\Anaconda3\\envs\\2.7\\lib\\subprocess.pyc\u001b[0m in \u001b[0;36mcheck_output\u001b[1;34m(*popenargs, **kwargs)\u001b[0m\n\u001b[0;32m    571\u001b[0m         \u001b[1;32mif\u001b[0m \u001b[0mcmd\u001b[0m \u001b[1;32mis\u001b[0m \u001b[0mNone\u001b[0m\u001b[1;33m:\u001b[0m\u001b[1;33m\u001b[0m\u001b[0m\n\u001b[0;32m    572\u001b[0m             \u001b[0mcmd\u001b[0m \u001b[1;33m=\u001b[0m \u001b[0mpopenargs\u001b[0m\u001b[1;33m[\u001b[0m\u001b[1;36m0\u001b[0m\u001b[1;33m]\u001b[0m\u001b[1;33m\u001b[0m\u001b[0m\n\u001b[1;32m--> 573\u001b[1;33m         \u001b[1;32mraise\u001b[0m \u001b[0mCalledProcessError\u001b[0m\u001b[1;33m(\u001b[0m\u001b[0mretcode\u001b[0m\u001b[1;33m,\u001b[0m \u001b[0mcmd\u001b[0m\u001b[1;33m,\u001b[0m \u001b[0moutput\u001b[0m\u001b[1;33m=\u001b[0m\u001b[0moutput\u001b[0m\u001b[1;33m)\u001b[0m\u001b[1;33m\u001b[0m\u001b[0m\n\u001b[0m\u001b[0;32m    574\u001b[0m     \u001b[1;32mreturn\u001b[0m \u001b[0moutput\u001b[0m\u001b[1;33m\u001b[0m\u001b[0m\n\u001b[0;32m    575\u001b[0m \u001b[1;33m\u001b[0m\u001b[0m\n",
      "\u001b[1;31mCalledProcessError\u001b[0m: Command 'dcmdump -q +r +sd +P \"0020,000E\" test-data' returned non-zero exit status 2"
     ]
    }
   ],
   "source": [
    "import subprocess\n",
    "\n",
    "series_uids = subprocess.check_output(\"dcmdump -q +r +sd +P \\\"0020,000E\\\" test-data\", shell=True)\n",
    "\n",
    "print(series_uids)\n"
   ]
  },
  {
   "cell_type": "code",
   "execution_count": null,
   "metadata": {
    "collapsed": true
   },
   "outputs": [],
   "source": []
  }
 ],
 "metadata": {
  "kernelspec": {
   "display_name": "Python 2",
   "language": "python",
   "name": "python2"
  },
  "language_info": {
   "codemirror_mode": {
    "name": "ipython",
    "version": 2
   },
   "file_extension": ".py",
   "mimetype": "text/x-python",
   "name": "python",
   "nbconvert_exporter": "python",
   "pygments_lexer": "ipython2",
   "version": "2.7.11"
  }
 },
 "nbformat": 4,
 "nbformat_minor": 0
}
